{
 "cells": [
  {
   "cell_type": "code",
   "execution_count": 1,
   "metadata": {},
   "outputs": [],
   "source": [
    "import numpy as np\n",
    "import pandas as pd\n",
    "import matplotlib.pyplot as plt"
   ]
  },
  {
   "cell_type": "code",
   "execution_count": 2,
   "metadata": {},
   "outputs": [],
   "source": [
    "Data= pd.read_csv('economia/13 Week Treasury Bill.csv')"
   ]
  },
  {
   "cell_type": "code",
   "execution_count": 3,
   "metadata": {},
   "outputs": [],
   "source": [
    "Data = Data.drop(columns=['Date'])"
   ]
  },
  {
   "cell_type": "code",
   "execution_count": 4,
   "metadata": {},
   "outputs": [
    {
     "data": {
      "text/html": [
       "<div>\n",
       "<style scoped>\n",
       "    .dataframe tbody tr th:only-of-type {\n",
       "        vertical-align: middle;\n",
       "    }\n",
       "\n",
       "    .dataframe tbody tr th {\n",
       "        vertical-align: top;\n",
       "    }\n",
       "\n",
       "    .dataframe thead th {\n",
       "        text-align: right;\n",
       "    }\n",
       "</style>\n",
       "<table border=\"1\" class=\"dataframe\">\n",
       "  <thead>\n",
       "    <tr style=\"text-align: right;\">\n",
       "      <th></th>\n",
       "      <th>High</th>\n",
       "      <th>Low</th>\n",
       "      <th>Open</th>\n",
       "      <th>Close</th>\n",
       "      <th>Adj Close</th>\n",
       "    </tr>\n",
       "  </thead>\n",
       "  <tbody>\n",
       "    <tr>\n",
       "      <th>0</th>\n",
       "      <td>5.72</td>\n",
       "      <td>5.65</td>\n",
       "      <td>5.71</td>\n",
       "      <td>5.68</td>\n",
       "      <td>5.68</td>\n",
       "    </tr>\n",
       "    <tr>\n",
       "      <th>1</th>\n",
       "      <td>5.76</td>\n",
       "      <td>5.53</td>\n",
       "      <td>5.68</td>\n",
       "      <td>5.53</td>\n",
       "      <td>5.53</td>\n",
       "    </tr>\n",
       "    <tr>\n",
       "      <th>2</th>\n",
       "      <td>5.37</td>\n",
       "      <td>5.21</td>\n",
       "      <td>5.37</td>\n",
       "      <td>5.24</td>\n",
       "      <td>5.24</td>\n",
       "    </tr>\n",
       "    <tr>\n",
       "      <th>3</th>\n",
       "      <td>5.19</td>\n",
       "      <td>4.95</td>\n",
       "      <td>5.05</td>\n",
       "      <td>4.97</td>\n",
       "      <td>4.97</td>\n",
       "    </tr>\n",
       "    <tr>\n",
       "      <th>4</th>\n",
       "      <td>5.06</td>\n",
       "      <td>4.99</td>\n",
       "      <td>5.02</td>\n",
       "      <td>5.05</td>\n",
       "      <td>5.05</td>\n",
       "    </tr>\n",
       "  </tbody>\n",
       "</table>\n",
       "</div>"
      ],
      "text/plain": [
       "   High   Low  Open  Close  Adj Close\n",
       "0  5.72  5.65  5.71   5.68       5.68\n",
       "1  5.76  5.53  5.68   5.53       5.53\n",
       "2  5.37  5.21  5.37   5.24       5.24\n",
       "3  5.19  4.95  5.05   4.97       4.97\n",
       "4  5.06  4.99  5.02   5.05       5.05"
      ]
     },
     "execution_count": 4,
     "metadata": {},
     "output_type": "execute_result"
    }
   ],
   "source": [
    "Data.head()"
   ]
  },
  {
   "cell_type": "code",
   "execution_count": 5,
   "metadata": {},
   "outputs": [],
   "source": [
    "economia=np.cov(Data)"
   ]
  },
  {
   "cell_type": "code",
   "execution_count": 6,
   "metadata": {},
   "outputs": [
    {
     "name": "stdout",
     "output_type": "stream",
     "text": [
      "[[0.00077    0.002665   0.00204    ... 0.000507   0.00030499 0.000828  ]\n",
      " [0.002665   0.01162999 0.00797999 ... 0.00182401 0.00075998 0.00160351]\n",
      " [0.00204    0.00797999 0.00603    ... 0.00141901 0.00068499 0.001536  ]\n",
      " ...\n",
      " [0.000507   0.00182401 0.00141901 ... 0.0003447  0.0001905  0.0004773 ]\n",
      " [0.00030499 0.00075998 0.00068499 ... 0.0001905  0.0001575  0.0004895 ]\n",
      " [0.000828   0.00160351 0.001536   ... 0.0004773  0.0004895  0.0016647 ]]\n"
     ]
    }
   ],
   "source": [
    "print(economia)"
   ]
  },
  {
   "cell_type": "code",
   "execution_count": 7,
   "metadata": {},
   "outputs": [
    {
     "name": "stdout",
     "output_type": "stream",
     "text": [
      "Impressão dos autovalores:\n",
      " [ 1.86518629e-02  1.65970801e-03  2.85321699e-04  7.54065697e-09\n",
      " -5.69028033e-09 -4.49482258e-09]\n",
      "Impressão dos autovetores:\n",
      " [[-0.19143155 -0.228249   -0.00730498  0.68819554  0.65222304 -0.11043096]\n",
      " [-0.78100667  0.32344177  0.52704956 -0.08499581 -0.01966005  0.0046861 ]\n",
      " [-0.55965785 -0.10586464 -0.77034918  0.01205246 -0.24714172 -0.14461542]\n",
      " [-0.13075701 -0.10503208 -0.16208657 -0.22650491  0.31313123  0.89232459]\n",
      " [-0.06100716 -0.2299014  -0.03531334 -0.68387313  0.55338196 -0.41019799]\n",
      " [-0.13909121 -0.87646683  0.31813276 -0.00551464 -0.32993454  0.04861962]]\n"
     ]
    }
   ],
   "source": [
    "\n",
    "def z_score(m):\n",
    "    \"\"\"Remove a média e normaliza os pelo desvio padrão\"\"\"\n",
    "    return (m - m.mean()) / m.std()\n",
    "\n",
    "\n",
    "m=np.array([[0.00077,    0.002665,   0.00204,  0.000507,   0.00030499, 0.000828  ],\n",
    " [0.002665,   0.01162999, 0.00797999, 0.00182401, 0.00075998, 0.00160351],\n",
    " [0.00204,   0.00797999, 0.00603,  0.00141901, 0.00068499, 0.001536  ],\n",
    " [0.000507,   0.00182401, 0.00141901, 0.0003447,  0.0001905,  0.0004773 ],\n",
    " [0.00030499, 0.00075998, 0.00068499, 0.0001905,  0.0001575,  0.0004895 ],\n",
    " [0.000828,  0.00160351, 0.001536, 0.0004773,  0.0004895,  0.0016647 ]])\n",
    "\n",
    "\n",
    "autovalores, autovetores= np.linalg.eig(m)\n",
    "w, v = np.linalg.eig(m) \n",
    "print(\"Impressão dos autovalores:\\n\", \n",
    "      w) \n",
    "print(\"Impressão dos autovetores:\\n\", \n",
    "      v) \n",
    "\n"
   ]
  },
  {
   "cell_type": "code",
   "execution_count": 24,
   "metadata": {},
   "outputs": [
    {
     "name": "stdout",
     "output_type": "stream",
     "text": [
      "Printar matriz original:\n",
      " [[0.00077    0.002665   0.00204    0.000507   0.00030499 0.000828  ]\n",
      " [0.002665   0.01162999 0.00797999 0.00182401 0.00075998 0.00160351]\n",
      " [0.00204    0.00797999 0.00603    0.00141901 0.00068499 0.001536  ]\n",
      " [0.000507   0.00182401 0.00141901 0.0003447  0.0001905  0.0004773 ]\n",
      " [0.00030499 0.00075998 0.00068499 0.0001905  0.0001575  0.0004895 ]\n",
      " [0.000828   0.00160351 0.001536   0.0004773  0.0004895  0.0016647 ]]\n"
     ]
    }
   ],
   "source": [
    "print(\"Printar matriz original:\\n\", m) "
   ]
  },
  {
   "cell_type": "code",
   "execution_count": 34,
   "metadata": {},
   "outputs": [
    {
     "data": {
      "text/plain": [
       "[<matplotlib.lines.Line2D at 0x208aecc8af0>]"
      ]
     },
     "execution_count": 34,
     "metadata": {},
     "output_type": "execute_result"
    },
    {
     "data": {
      "image/png": "[encoded data removed]",
      "text/plain": [
       "<Figure size 640x480 with 1 Axes>"
      ]
     },
     "metadata": {},
     "output_type": "display_data"
    }
   ],
   "source": []
  },
  {
   "cell_type": "code",
   "execution_count": 2,
   "metadata": {},
   "outputs": [
    {
     "ename": "NameError",
     "evalue": "name 'plt' is not defined",
     "output_type": "error",
     "traceback": [
      "\u001b[1;31m---------------------------------------------------------------------------\u001b[0m",
      "\u001b[1;31mNameError\u001b[0m                                 Traceback (most recent call last)",
      "Cell \u001b[1;32mIn [2], line 1\u001b[0m\n\u001b[1;32m----> 1\u001b[0m ax \u001b[39m=\u001b[39m plt\u001b[39m.\u001b[39maxes(projection\u001b[39m=\u001b[39m\u001b[39m'\u001b[39m\u001b[39m3d\u001b[39m\u001b[39m'\u001b[39m)    \n\u001b[0;32m      2\u001b[0m x\u001b[39m=\u001b[39m[\u001b[39m5.72\u001b[39m, \u001b[39m5.76\u001b[39m, \u001b[39m5.37\u001b[39m, \u001b[39m5.19\u001b[39m, \u001b[39m5.06\u001b[39m]\n\u001b[0;32m      3\u001b[0m y\u001b[39m=\u001b[39m[\u001b[39m5.65\u001b[39m, \u001b[39m5.53\u001b[39m, \u001b[39m5.21\u001b[39m, \u001b[39m4.95\u001b[39m, \u001b[39m4.99\u001b[39m]\n",
      "\u001b[1;31mNameError\u001b[0m: name 'plt' is not defined"
     ]
    }
   ],
   "source": [
    "\n",
    "ax = plt.axes(projection='3d')    \n",
    "x=[5.72, 5.76, 5.37, 5.19, 5.06]\n",
    "y=[5.65, 5.53, 5.21, 4.95, 4.99]\n",
    "\n",
    "ax.plot3D(x, y, 'red')\n",
    "\n",
    "\n",
    "ax.scatter3D(x, y, cmap='cividis')"
   ]
  },
  {
   "cell_type": "code",
   "execution_count": null,
   "metadata": {},
   "outputs": [],
   "source": []
  }
 ],
 "metadata": {
  "kernelspec": {
   "display_name": "Python 3.10.5 64-bit",
   "language": "python",
   "name": "python3"
  },
  "language_info": {
   "codemirror_mode": {
    "name": "ipython",
    "version": 3
   },
   "file_extension": ".py",
   "mimetype": "text/x-python",
   "name": "python",
   "nbconvert_exporter": "python",
   "pygments_lexer": "ipython3",
   "version": "3.10.5"
  },
  "orig_nbformat": 4,
  "vscode": {
   "interpreter": {
    "hash": "cabb79eba6a7bbc86f68b9d7ec45eb843010dd03cdb24ac98d3af13e82d22868"
   }
  }
 },
 "nbformat": 4,
 "nbformat_minor": 2
}
